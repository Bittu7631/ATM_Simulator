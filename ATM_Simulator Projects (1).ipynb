{
 "cells": [
  {
   "cell_type": "code",
   "execution_count": 1,
   "id": "400cd80d",
   "metadata": {},
   "outputs": [],
   "source": [
    "# ATM_Simulator"
   ]
  },
  {
   "cell_type": "code",
   "execution_count": 2,
   "id": "dc50a19f",
   "metadata": {},
   "outputs": [],
   "source": [
    "class User:\n",
    "  def __init__(self, pin, balance, name):\n",
    "    self.balance = balance\n",
    "    self.correct_pin = pin\n",
    "    self.name = name"
   ]
  },
  {
   "cell_type": "code",
   "execution_count": 3,
   "id": "9b141c0b",
   "metadata": {},
   "outputs": [],
   "source": [
    "def atm_simulation(user):\n",
    "    print(f'''\n",
    "            ***** Welcome {user.name} To ATM Machine Simulator *****\n",
    "         ''')\n",
    "\n",
    "    pin=int(input('Enter Your Pin: '))\n",
    "    if pin!=user.correct_pin:\n",
    "      print(\"Incorrect pin\")\n",
    "      print(\"Thank you\")\n",
    "      return\n",
    "    while True:\n",
    "      print('''\n",
    "              Options you can Excercise are:\n",
    "              1) Balance\n",
    "              2) Withdraw\n",
    "              3) Deposit\n",
    "              4) Change pin\n",
    "              5) Exit\n",
    "          ''')\n",
    "      choose=int(input('Select Your Transaction from the above options: '))\n",
    "      if choose==1:\n",
    "          print(f'Available A/C Balance Is {user.balance}')\n",
    "      elif choose==2:\n",
    "          withdraw=int(input('Enter Amount: '))\n",
    "          if withdraw<=user.balance:\n",
    "              user.balance-=withdraw\n",
    "              print(f'Your availabe balance is {user.balance}')\n",
    "          else:\n",
    "              print('Insufficient Balance')\n",
    "      elif choose==3:\n",
    "          amount=int(input('Enter Amount: '))\n",
    "          user.balance+=amount\n",
    "          print(f'New Balance is {user.balance}')\n",
    "      elif choose==4:\n",
    "          new_pin = int(input(\"Enter the new pin: \"))\n",
    "          user.correct_pin = new_pin\n",
    "      elif choose==5:\n",
    "          print(\"Thank you!\")\n",
    "          break\n",
    "      else:\n",
    "          print('Incorrect choice')\n",
    "    return"
   ]
  },
  {
   "cell_type": "code",
   "execution_count": 4,
   "id": "e8296484",
   "metadata": {},
   "outputs": [],
   "source": [
    "Bittu = User(6789,10000,\"Bittu\")"
   ]
  },
  {
   "cell_type": "code",
   "execution_count": 5,
   "id": "de78b128",
   "metadata": {},
   "outputs": [
    {
     "name": "stdout",
     "output_type": "stream",
     "text": [
      "\n",
      "            ***** Welcome Bittu To ATM Machine Simulator *****\n",
      "         \n",
      "Enter Your Pin: 6789\n",
      "\n",
      "              Options you can Excercise are:\n",
      "              1) Balance\n",
      "              2) Withdraw\n",
      "              3) Deposit\n",
      "              4) Change pin\n",
      "              5) Exit\n",
      "          \n",
      "Select Your Transaction from the above options: 1\n",
      "Available A/C Balance Is 10000\n",
      "\n",
      "              Options you can Excercise are:\n",
      "              1) Balance\n",
      "              2) Withdraw\n",
      "              3) Deposit\n",
      "              4) Change pin\n",
      "              5) Exit\n",
      "          \n",
      "Select Your Transaction from the above options: 2\n",
      "Enter Amount: 1000\n",
      "Your availabe balance is 9000\n",
      "\n",
      "              Options you can Excercise are:\n",
      "              1) Balance\n",
      "              2) Withdraw\n",
      "              3) Deposit\n",
      "              4) Change pin\n",
      "              5) Exit\n",
      "          \n",
      "Select Your Transaction from the above options: 1\n",
      "Available A/C Balance Is 9000\n",
      "\n",
      "              Options you can Excercise are:\n",
      "              1) Balance\n",
      "              2) Withdraw\n",
      "              3) Deposit\n",
      "              4) Change pin\n",
      "              5) Exit\n",
      "          \n",
      "Select Your Transaction from the above options: 3\n",
      "Enter Amount: 500\n",
      "New Balance is 9500\n",
      "\n",
      "              Options you can Excercise are:\n",
      "              1) Balance\n",
      "              2) Withdraw\n",
      "              3) Deposit\n",
      "              4) Change pin\n",
      "              5) Exit\n",
      "          \n",
      "Select Your Transaction from the above options: 1\n",
      "Available A/C Balance Is 9500\n",
      "\n",
      "              Options you can Excercise are:\n",
      "              1) Balance\n",
      "              2) Withdraw\n",
      "              3) Deposit\n",
      "              4) Change pin\n",
      "              5) Exit\n",
      "          \n",
      "Select Your Transaction from the above options: 5\n",
      "Thank you!\n"
     ]
    }
   ],
   "source": [
    "atm_simulation(Bittu)"
   ]
  },
  {
   "cell_type": "code",
   "execution_count": null,
   "id": "00c5bc12",
   "metadata": {},
   "outputs": [],
   "source": []
  }
 ],
 "metadata": {
  "kernelspec": {
   "display_name": "Python 3 (ipykernel)",
   "language": "python",
   "name": "python3"
  },
  "language_info": {
   "codemirror_mode": {
    "name": "ipython",
    "version": 3
   },
   "file_extension": ".py",
   "mimetype": "text/x-python",
   "name": "python",
   "nbconvert_exporter": "python",
   "pygments_lexer": "ipython3",
   "version": "3.11.5"
  }
 },
 "nbformat": 4,
 "nbformat_minor": 5
}
