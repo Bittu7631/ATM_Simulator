{
 "cells": [
  {
   "cell_type": "code",
   "execution_count": 2,
   "id": "23fd7a79",
   "metadata": {},
   "outputs": [],
   "source": [
    "class User:\n",
    "    def __init__(self,pin,balance,name):\n",
    "        self.balance = balance\n",
    "        self.name = name\n",
    "        self.correct_pin = pin"
   ]
  },
  {
   "cell_type": "code",
   "execution_count": 27,
   "id": "b5f44219",
   "metadata": {},
   "outputs": [],
   "source": [
    "def atm_simulation(user):\n",
    "    print(f'''****Welcome {user.name} To ATM Machine Simulation****''')\n",
    "    pin = int(input('Enter Your Pin..'))\n",
    "    if pin != user.correct_pin:\n",
    "        print(\"Incorrect Pin\")\n",
    "        print(\"Thank You\")\n",
    "        return\n",
    "    while True:\n",
    "      print('''\n",
    "              Options you can Excercise are:\n",
    "              1) Balance\n",
    "              2) Withdraw\n",
    "              3) Deposit\n",
    "              4) Exit\n",
    "          ''')\n",
    "      choose=int(input('Select Your Transaction from the above options: '))\n",
    "      if choose==1:\n",
    "          print(f'Available A/C Balance Is {user.balance}')\n",
    "      elif choose==2:\n",
    "          withdraw=int(input('Enter Amount: '))\n",
    "          if withdraw<=user.balance:\n",
    "              user.balance-=withdraw\n",
    "              print(f'Your availabe balance is {user.balance}')\n",
    "          else:\n",
    "              print('Insufficient Balance')\n",
    "      elif choose==3:\n",
    "          amount=int(input('Enter Amount: '))\n",
    "          user.balance+=amount\n",
    "          print(f'New Balance is {user.balance}')\n",
    "      elif choose==4:\n",
    "          print(\"Thank you!\")\n",
    "          break\n",
    "      else:\n",
    "          print('No Selected Transaction')\n",
    "\n",
    "    return\n",
    "  \n",
    "                        \n",
    "                        \n",
    "                        \n",
    "                  \n",
    "             \n",
    "                  "
   ]
  },
  {
   "cell_type": "code",
   "execution_count": 28,
   "id": "d578c41e",
   "metadata": {},
   "outputs": [],
   "source": [
    "Bittu = User(1234,10000,\"bittu\")"
   ]
  },
  {
   "cell_type": "code",
   "execution_count": 30,
   "id": "2d3b739e",
   "metadata": {},
   "outputs": [
    {
     "name": "stdout",
     "output_type": "stream",
     "text": [
      "****Welcome bittu To ATM Machine Simulation****\n",
      "Enter Your Pin..1234\n",
      "\n",
      "              Options you can Excercise are:\n",
      "              1) Balance\n",
      "              2) Withdraw\n",
      "              3) Deposit\n",
      "              4) Exit\n",
      "          \n",
      "Select Your Transaction from the above options: 2\n",
      "Enter Amount: 1000\n",
      "Your availabe balance is 9000\n",
      "\n",
      "              Options you can Excercise are:\n",
      "              1) Balance\n",
      "              2) Withdraw\n",
      "              3) Deposit\n",
      "              4) Exit\n",
      "          \n",
      "Select Your Transaction from the above options: 1\n",
      "Available A/C Balance Is 9000\n",
      "\n",
      "              Options you can Excercise are:\n",
      "              1) Balance\n",
      "              2) Withdraw\n",
      "              3) Deposit\n",
      "              4) Exit\n",
      "          \n",
      "Select Your Transaction from the above options: 3\n",
      "Enter Amount: 1000\n",
      "New Balance is 10000\n",
      "\n",
      "              Options you can Excercise are:\n",
      "              1) Balance\n",
      "              2) Withdraw\n",
      "              3) Deposit\n",
      "              4) Exit\n",
      "          \n",
      "Select Your Transaction from the above options: 1\n",
      "Available A/C Balance Is 10000\n",
      "\n",
      "              Options you can Excercise are:\n",
      "              1) Balance\n",
      "              2) Withdraw\n",
      "              3) Deposit\n",
      "              4) Exit\n",
      "          \n",
      "Select Your Transaction from the above options: 4\n",
      "Thank you!\n"
     ]
    }
   ],
   "source": [
    "atm_simulation(Bittu)"
   ]
  },
  {
   "cell_type": "code",
   "execution_count": null,
   "id": "698e58b3",
   "metadata": {},
   "outputs": [],
   "source": []
  }
 ],
 "metadata": {
  "kernelspec": {
   "display_name": "Python 3 (ipykernel)",
   "language": "python",
   "name": "python3"
  },
  "language_info": {
   "codemirror_mode": {
    "name": "ipython",
    "version": 3
   },
   "file_extension": ".py",
   "mimetype": "text/x-python",
   "name": "python",
   "nbconvert_exporter": "python",
   "pygments_lexer": "ipython3",
   "version": "3.11.5"
  }
 },
 "nbformat": 4,
 "nbformat_minor": 5
}
